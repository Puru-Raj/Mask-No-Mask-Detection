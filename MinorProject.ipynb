{
  "nbformat": 4,
  "nbformat_minor": 0,
  "metadata": {
    "colab": {
      "name": "MinorProject.ipynb",
      "provenance": [],
      "collapsed_sections": []
    },
    "kernelspec": {
      "name": "python380jvsc74a57bd0ce9342225d8d5d194eecab8f06eb45c272edb9d54c597d3250f144be66ab76ae",
      "display_name": "Python 3.8.0 64-bit"
    },
    "language_info": {
      "name": "python",
      "version": "3.8.0"
    }
  },
  "cells": [
    {
      "cell_type": "code",
      "metadata": {
        "id": "uzTRYMs2L2Cc"
      },
      "source": [
        "import pandas as pd\n",
        "from sklearn.model_selection import train_test_split\n",
        "from sklearn.decomposition import PCA\n",
        "from sklearn.model_selection import cross_val_score\n",
        "from sklearn.preprocessing import StandardScaler\n",
        "from sklearn.metrics import accuracy_score\n",
        "import matplotlib.pyplot as plt\n",
        "import seaborn as sns\n",
        "import numpy as np"
      ],
      "execution_count": 19,
      "outputs": []
    },
    {
      "cell_type": "code",
      "metadata": {
        "id": "3nEDM2GgMcgT",
        "colab": {
          "base_uri": "https://localhost:8080/",
          "height": 270
        },
        "outputId": "09abf32f-2f71-45d2-af31-4eaf68cd0c19"
      },
      "source": [
        "df = pd.read_csv(\"./data.csv\")\n",
        "df = df.sample(frac = 1)\n",
        "df.head()"
      ],
      "execution_count": 20,
      "outputs": [
        {
          "output_type": "execute_result",
          "data": {
            "text/plain": [
              "     Unnamed: 0    0    1    2    3    4    5    6    7    8  ...  12279  \\\n",
              "832         832  176  171  151  170  165  145  155  149  133  ...    192   \n",
              "914         914   50   43   14   54   47   18   76   69   40  ...    192   \n",
              "1             1   32   16    3   31   15    2   32   16    3  ...    220   \n",
              "432         432  166  111   81  164  110   78  167  109   76  ...     49   \n",
              "969         969   90   70   71  111   91   92  123  105  103  ...     41   \n",
              "\n",
              "     12280  12281  12282  12283  12284  12285  12286  12287  12288  \n",
              "832    201    196    197    206    205    201    210    209      0  \n",
              "914    166    133    194    167    140    191    165    140      0  \n",
              "1      239    217    222    241    219    223    242    220      1  \n",
              "432     20     25     45     21     28     44     24     33      1  \n",
              "969     18     10     41     14      7     38     11      4      0  \n",
              "\n",
              "[5 rows x 12290 columns]"
            ],
            "text/html": "<div>\n<style scoped>\n    .dataframe tbody tr th:only-of-type {\n        vertical-align: middle;\n    }\n\n    .dataframe tbody tr th {\n        vertical-align: top;\n    }\n\n    .dataframe thead th {\n        text-align: right;\n    }\n</style>\n<table border=\"1\" class=\"dataframe\">\n  <thead>\n    <tr style=\"text-align: right;\">\n      <th></th>\n      <th>Unnamed: 0</th>\n      <th>0</th>\n      <th>1</th>\n      <th>2</th>\n      <th>3</th>\n      <th>4</th>\n      <th>5</th>\n      <th>6</th>\n      <th>7</th>\n      <th>8</th>\n      <th>...</th>\n      <th>12279</th>\n      <th>12280</th>\n      <th>12281</th>\n      <th>12282</th>\n      <th>12283</th>\n      <th>12284</th>\n      <th>12285</th>\n      <th>12286</th>\n      <th>12287</th>\n      <th>12288</th>\n    </tr>\n  </thead>\n  <tbody>\n    <tr>\n      <th>832</th>\n      <td>832</td>\n      <td>176</td>\n      <td>171</td>\n      <td>151</td>\n      <td>170</td>\n      <td>165</td>\n      <td>145</td>\n      <td>155</td>\n      <td>149</td>\n      <td>133</td>\n      <td>...</td>\n      <td>192</td>\n      <td>201</td>\n      <td>196</td>\n      <td>197</td>\n      <td>206</td>\n      <td>205</td>\n      <td>201</td>\n      <td>210</td>\n      <td>209</td>\n      <td>0</td>\n    </tr>\n    <tr>\n      <th>914</th>\n      <td>914</td>\n      <td>50</td>\n      <td>43</td>\n      <td>14</td>\n      <td>54</td>\n      <td>47</td>\n      <td>18</td>\n      <td>76</td>\n      <td>69</td>\n      <td>40</td>\n      <td>...</td>\n      <td>192</td>\n      <td>166</td>\n      <td>133</td>\n      <td>194</td>\n      <td>167</td>\n      <td>140</td>\n      <td>191</td>\n      <td>165</td>\n      <td>140</td>\n      <td>0</td>\n    </tr>\n    <tr>\n      <th>1</th>\n      <td>1</td>\n      <td>32</td>\n      <td>16</td>\n      <td>3</td>\n      <td>31</td>\n      <td>15</td>\n      <td>2</td>\n      <td>32</td>\n      <td>16</td>\n      <td>3</td>\n      <td>...</td>\n      <td>220</td>\n      <td>239</td>\n      <td>217</td>\n      <td>222</td>\n      <td>241</td>\n      <td>219</td>\n      <td>223</td>\n      <td>242</td>\n      <td>220</td>\n      <td>1</td>\n    </tr>\n    <tr>\n      <th>432</th>\n      <td>432</td>\n      <td>166</td>\n      <td>111</td>\n      <td>81</td>\n      <td>164</td>\n      <td>110</td>\n      <td>78</td>\n      <td>167</td>\n      <td>109</td>\n      <td>76</td>\n      <td>...</td>\n      <td>49</td>\n      <td>20</td>\n      <td>25</td>\n      <td>45</td>\n      <td>21</td>\n      <td>28</td>\n      <td>44</td>\n      <td>24</td>\n      <td>33</td>\n      <td>1</td>\n    </tr>\n    <tr>\n      <th>969</th>\n      <td>969</td>\n      <td>90</td>\n      <td>70</td>\n      <td>71</td>\n      <td>111</td>\n      <td>91</td>\n      <td>92</td>\n      <td>123</td>\n      <td>105</td>\n      <td>103</td>\n      <td>...</td>\n      <td>41</td>\n      <td>18</td>\n      <td>10</td>\n      <td>41</td>\n      <td>14</td>\n      <td>7</td>\n      <td>38</td>\n      <td>11</td>\n      <td>4</td>\n      <td>0</td>\n    </tr>\n  </tbody>\n</table>\n<p>5 rows × 12290 columns</p>\n</div>"
          },
          "metadata": {},
          "execution_count": 20
        }
      ]
    },
    {
      "cell_type": "code",
      "metadata": {
        "colab": {
          "base_uri": "https://localhost:8080/",
          "height": 346
        },
        "id": "R7IlnmShZ01z",
        "outputId": "b6ecec87-f97f-4af1-93b3-b0b237178b44"
      },
      "source": [
        "df.describe()"
      ],
      "execution_count": 21,
      "outputs": [
        {
          "output_type": "execute_result",
          "data": {
            "text/plain": [
              "        Unnamed: 0            0            1            2            3  \\\n",
              "count  1264.000000  1264.000000  1264.000000  1264.000000  1264.000000   \n",
              "mean    631.500000    84.766614    79.029272    78.389241    80.353639   \n",
              "std     365.029679    74.574285    72.135242    69.625741    71.916392   \n",
              "min       0.000000     0.000000     0.000000     0.000000     0.000000   \n",
              "25%     315.750000    28.000000    25.000000    27.000000    28.000000   \n",
              "50%     631.500000    55.000000    52.000000    54.000000    51.000000   \n",
              "75%     947.250000   127.000000   114.000000   112.000000   119.000000   \n",
              "max    1263.000000   255.000000   255.000000   255.000000   255.000000   \n",
              "\n",
              "                 4            5            6            7            8  ...  \\\n",
              "count  1264.000000  1264.000000  1264.000000  1264.000000  1264.000000  ...   \n",
              "mean     74.598101    73.880538    75.545886    69.531646    69.156646  ...   \n",
              "std      69.479822    67.020547    68.427371    66.139172    63.799722  ...   \n",
              "min       0.000000     0.000000     0.000000     0.000000     0.000000  ...   \n",
              "25%      25.000000    25.750000    26.000000    24.000000    25.000000  ...   \n",
              "50%      46.000000    49.000000    49.000000    43.500000    46.000000  ...   \n",
              "75%     101.000000    97.000000   106.000000    90.000000    90.250000  ...   \n",
              "max     255.000000   255.000000   255.000000   255.000000   255.000000  ...   \n",
              "\n",
              "             12279        12280        12281        12282        12283  \\\n",
              "count  1264.000000  1264.000000  1264.000000  1264.000000  1264.000000   \n",
              "mean    138.889241   123.958861   116.555380   138.738924   123.784019   \n",
              "std      80.604036    77.367525    76.286351    80.610339    77.456355   \n",
              "min       0.000000     0.000000     0.000000     0.000000     0.000000   \n",
              "25%      57.000000    54.000000    47.750000    57.000000    51.000000   \n",
              "50%     155.000000   130.000000   112.500000   153.000000   125.000000   \n",
              "75%     212.000000   188.250000   177.000000   211.000000   190.000000   \n",
              "max     255.000000   255.000000   255.000000   255.000000   255.000000   \n",
              "\n",
              "             12284        12285        12286        12287        12288  \n",
              "count  1264.000000  1264.000000  1264.000000  1264.000000  1264.000000  \n",
              "mean    116.864715   137.962816   123.270570   116.268196     0.500000  \n",
              "std      76.236920    80.522449    77.259675    76.048200     0.500198  \n",
              "min       0.000000     0.000000     0.000000     0.000000     0.000000  \n",
              "25%      48.000000    59.750000    51.750000    50.000000     0.000000  \n",
              "50%     111.000000   151.000000   125.000000   109.000000     0.500000  \n",
              "75%     181.000000   210.250000   190.000000   180.250000     1.000000  \n",
              "max     255.000000   255.000000   255.000000   255.000000     1.000000  \n",
              "\n",
              "[8 rows x 12290 columns]"
            ],
            "text/html": "<div>\n<style scoped>\n    .dataframe tbody tr th:only-of-type {\n        vertical-align: middle;\n    }\n\n    .dataframe tbody tr th {\n        vertical-align: top;\n    }\n\n    .dataframe thead th {\n        text-align: right;\n    }\n</style>\n<table border=\"1\" class=\"dataframe\">\n  <thead>\n    <tr style=\"text-align: right;\">\n      <th></th>\n      <th>Unnamed: 0</th>\n      <th>0</th>\n      <th>1</th>\n      <th>2</th>\n      <th>3</th>\n      <th>4</th>\n      <th>5</th>\n      <th>6</th>\n      <th>7</th>\n      <th>8</th>\n      <th>...</th>\n      <th>12279</th>\n      <th>12280</th>\n      <th>12281</th>\n      <th>12282</th>\n      <th>12283</th>\n      <th>12284</th>\n      <th>12285</th>\n      <th>12286</th>\n      <th>12287</th>\n      <th>12288</th>\n    </tr>\n  </thead>\n  <tbody>\n    <tr>\n      <th>count</th>\n      <td>1264.000000</td>\n      <td>1264.000000</td>\n      <td>1264.000000</td>\n      <td>1264.000000</td>\n      <td>1264.000000</td>\n      <td>1264.000000</td>\n      <td>1264.000000</td>\n      <td>1264.000000</td>\n      <td>1264.000000</td>\n      <td>1264.000000</td>\n      <td>...</td>\n      <td>1264.000000</td>\n      <td>1264.000000</td>\n      <td>1264.000000</td>\n      <td>1264.000000</td>\n      <td>1264.000000</td>\n      <td>1264.000000</td>\n      <td>1264.000000</td>\n      <td>1264.000000</td>\n      <td>1264.000000</td>\n      <td>1264.000000</td>\n    </tr>\n    <tr>\n      <th>mean</th>\n      <td>631.500000</td>\n      <td>84.766614</td>\n      <td>79.029272</td>\n      <td>78.389241</td>\n      <td>80.353639</td>\n      <td>74.598101</td>\n      <td>73.880538</td>\n      <td>75.545886</td>\n      <td>69.531646</td>\n      <td>69.156646</td>\n      <td>...</td>\n      <td>138.889241</td>\n      <td>123.958861</td>\n      <td>116.555380</td>\n      <td>138.738924</td>\n      <td>123.784019</td>\n      <td>116.864715</td>\n      <td>137.962816</td>\n      <td>123.270570</td>\n      <td>116.268196</td>\n      <td>0.500000</td>\n    </tr>\n    <tr>\n      <th>std</th>\n      <td>365.029679</td>\n      <td>74.574285</td>\n      <td>72.135242</td>\n      <td>69.625741</td>\n      <td>71.916392</td>\n      <td>69.479822</td>\n      <td>67.020547</td>\n      <td>68.427371</td>\n      <td>66.139172</td>\n      <td>63.799722</td>\n      <td>...</td>\n      <td>80.604036</td>\n      <td>77.367525</td>\n      <td>76.286351</td>\n      <td>80.610339</td>\n      <td>77.456355</td>\n      <td>76.236920</td>\n      <td>80.522449</td>\n      <td>77.259675</td>\n      <td>76.048200</td>\n      <td>0.500198</td>\n    </tr>\n    <tr>\n      <th>min</th>\n      <td>0.000000</td>\n      <td>0.000000</td>\n      <td>0.000000</td>\n      <td>0.000000</td>\n      <td>0.000000</td>\n      <td>0.000000</td>\n      <td>0.000000</td>\n      <td>0.000000</td>\n      <td>0.000000</td>\n      <td>0.000000</td>\n      <td>...</td>\n      <td>0.000000</td>\n      <td>0.000000</td>\n      <td>0.000000</td>\n      <td>0.000000</td>\n      <td>0.000000</td>\n      <td>0.000000</td>\n      <td>0.000000</td>\n      <td>0.000000</td>\n      <td>0.000000</td>\n      <td>0.000000</td>\n    </tr>\n    <tr>\n      <th>25%</th>\n      <td>315.750000</td>\n      <td>28.000000</td>\n      <td>25.000000</td>\n      <td>27.000000</td>\n      <td>28.000000</td>\n      <td>25.000000</td>\n      <td>25.750000</td>\n      <td>26.000000</td>\n      <td>24.000000</td>\n      <td>25.000000</td>\n      <td>...</td>\n      <td>57.000000</td>\n      <td>54.000000</td>\n      <td>47.750000</td>\n      <td>57.000000</td>\n      <td>51.000000</td>\n      <td>48.000000</td>\n      <td>59.750000</td>\n      <td>51.750000</td>\n      <td>50.000000</td>\n      <td>0.000000</td>\n    </tr>\n    <tr>\n      <th>50%</th>\n      <td>631.500000</td>\n      <td>55.000000</td>\n      <td>52.000000</td>\n      <td>54.000000</td>\n      <td>51.000000</td>\n      <td>46.000000</td>\n      <td>49.000000</td>\n      <td>49.000000</td>\n      <td>43.500000</td>\n      <td>46.000000</td>\n      <td>...</td>\n      <td>155.000000</td>\n      <td>130.000000</td>\n      <td>112.500000</td>\n      <td>153.000000</td>\n      <td>125.000000</td>\n      <td>111.000000</td>\n      <td>151.000000</td>\n      <td>125.000000</td>\n      <td>109.000000</td>\n      <td>0.500000</td>\n    </tr>\n    <tr>\n      <th>75%</th>\n      <td>947.250000</td>\n      <td>127.000000</td>\n      <td>114.000000</td>\n      <td>112.000000</td>\n      <td>119.000000</td>\n      <td>101.000000</td>\n      <td>97.000000</td>\n      <td>106.000000</td>\n      <td>90.000000</td>\n      <td>90.250000</td>\n      <td>...</td>\n      <td>212.000000</td>\n      <td>188.250000</td>\n      <td>177.000000</td>\n      <td>211.000000</td>\n      <td>190.000000</td>\n      <td>181.000000</td>\n      <td>210.250000</td>\n      <td>190.000000</td>\n      <td>180.250000</td>\n      <td>1.000000</td>\n    </tr>\n    <tr>\n      <th>max</th>\n      <td>1263.000000</td>\n      <td>255.000000</td>\n      <td>255.000000</td>\n      <td>255.000000</td>\n      <td>255.000000</td>\n      <td>255.000000</td>\n      <td>255.000000</td>\n      <td>255.000000</td>\n      <td>255.000000</td>\n      <td>255.000000</td>\n      <td>...</td>\n      <td>255.000000</td>\n      <td>255.000000</td>\n      <td>255.000000</td>\n      <td>255.000000</td>\n      <td>255.000000</td>\n      <td>255.000000</td>\n      <td>255.000000</td>\n      <td>255.000000</td>\n      <td>255.000000</td>\n      <td>1.000000</td>\n    </tr>\n  </tbody>\n</table>\n<p>8 rows × 12290 columns</p>\n</div>"
          },
          "metadata": {},
          "execution_count": 21
        }
      ]
    },
    {
      "cell_type": "code",
      "metadata": {
        "id": "kUGqp67pYagH",
        "colab": {
          "base_uri": "https://localhost:8080/"
        },
        "outputId": "b236f98b-855b-41d2-b9ff-ba942af30541"
      },
      "source": [
        "x=df.iloc[:,:-1]\n",
        "y=df[\"12288\"]\n",
        "y"
      ],
      "execution_count": 22,
      "outputs": [
        {
          "output_type": "execute_result",
          "data": {
            "text/plain": [
              "832    0\n",
              "914    0\n",
              "1      1\n",
              "432    1\n",
              "969    0\n",
              "      ..\n",
              "151    1\n",
              "505    1\n",
              "70     1\n",
              "20     1\n",
              "394    1\n",
              "Name: 12288, Length: 1264, dtype: int64"
            ]
          },
          "metadata": {},
          "execution_count": 22
        }
      ]
    },
    {
      "cell_type": "code",
      "metadata": {
        "id": "oWBBuF43Yx_l"
      },
      "source": [
        "x,test_x,y,test_y = train_test_split( x, y, test_size=0.2, random_state=0)"
      ],
      "execution_count": 23,
      "outputs": []
    },
    {
      "cell_type": "code",
      "metadata": {
        "id": "2hFLap-JZEhw",
        "colab": {
          "base_uri": "https://localhost:8080/"
        },
        "outputId": "4f22b220-af8a-4798-cc03-9914359a39f0"
      },
      "source": [
        "pca = PCA(0.95)\n",
        "pca.fit(x)\n",
        "x_pca = pca.transform(x)\n",
        "test_x_pca = pca.transform(test_x)\n",
        "print(f\"Variance covered by PCA   : {sum(pca.explained_variance_ratio_ * 100)}\")\n",
        "print(f\"12288 Dimensions reduced to : {len(x_pca[0])}\")"
      ],
      "execution_count": 24,
      "outputs": [
        {
          "output_type": "stream",
          "name": "stdout",
          "text": [
            "Variance covered by PCA   : 95.00288764530836\n12288 Dimensions reduced to : 123\n"
          ]
        }
      ]
    },
    {
      "cell_type": "code",
      "metadata": {
        "id": "mGYAV7hpZL9g"
      },
      "source": [
        "x_pca = pd.DataFrame(data=x_pca)\n",
        "test_x_pca=pd.DataFrame(data=test_x_pca)"
      ],
      "execution_count": 25,
      "outputs": []
    },
    {
      "cell_type": "code",
      "metadata": {
        "id": "j3ly5z59ZSlI",
        "colab": {
          "base_uri": "https://localhost:8080/",
          "height": 253
        },
        "outputId": "27dd3e9e-dc0e-4c08-e1f5-d794bc3d5ff2"
      },
      "source": [
        "x_pca.head()"
      ],
      "execution_count": 26,
      "outputs": [
        {
          "output_type": "execute_result",
          "data": {
            "text/plain": [
              "           0            1            2            3            4    \\\n",
              "0 -1036.988779  2692.678981  3420.900358  -888.014875 -1113.951045   \n",
              "1  4921.428929   886.244409   183.700845   425.485301   383.917241   \n",
              "2   942.126455  1628.882280 -1810.514571   579.381758 -4709.759817   \n",
              "3  -905.546255 -2176.183527  -779.073629 -3038.482965  1503.399469   \n",
              "4  4624.850863   156.089424 -1299.290428   439.096417  3403.753387   \n",
              "\n",
              "           5            6            7            8            9    ...  \\\n",
              "0  2807.133245  3377.513695 -1464.675013  -289.580176   213.117662  ...   \n",
              "1  1662.479445 -1371.607531   569.768303   154.042680   161.694165  ...   \n",
              "2  -741.682166   296.041706 -1091.611557  -408.265586 -1206.627040  ...   \n",
              "3  1601.494653    24.023647   380.595853  -776.915624   416.780648  ...   \n",
              "4  -389.768351 -1438.531334   646.126079  1053.596170  -961.073890  ...   \n",
              "\n",
              "          113         114         115         116         117         118  \\\n",
              "0  197.235981 -158.538608 -163.117598  164.336640  147.054111  -82.378241   \n",
              "1  -39.313384 -153.186006 -188.777539   62.442820 -103.746387  131.804024   \n",
              "2  144.727756   34.470293 -124.779669  100.398109  -66.607898  112.060416   \n",
              "3  -23.997323   67.162909  241.922331 -113.451923 -209.791171 -166.795881   \n",
              "4  123.000738 -164.072584 -141.123491 -266.234791  -62.946049 -132.851435   \n",
              "\n",
              "          119         120         121         122  \n",
              "0  198.517965   78.269472 -175.620422   55.311493  \n",
              "1   49.645063  -10.451518  -10.949770 -199.128270  \n",
              "2  114.169405 -100.108376  -75.781025  -87.796256  \n",
              "3 -267.657597  -50.719785  164.450806  226.605368  \n",
              "4   74.984740  174.026308  255.520992 -323.448398  \n",
              "\n",
              "[5 rows x 123 columns]"
            ],
            "text/html": "<div>\n<style scoped>\n    .dataframe tbody tr th:only-of-type {\n        vertical-align: middle;\n    }\n\n    .dataframe tbody tr th {\n        vertical-align: top;\n    }\n\n    .dataframe thead th {\n        text-align: right;\n    }\n</style>\n<table border=\"1\" class=\"dataframe\">\n  <thead>\n    <tr style=\"text-align: right;\">\n      <th></th>\n      <th>0</th>\n      <th>1</th>\n      <th>2</th>\n      <th>3</th>\n      <th>4</th>\n      <th>5</th>\n      <th>6</th>\n      <th>7</th>\n      <th>8</th>\n      <th>9</th>\n      <th>...</th>\n      <th>113</th>\n      <th>114</th>\n      <th>115</th>\n      <th>116</th>\n      <th>117</th>\n      <th>118</th>\n      <th>119</th>\n      <th>120</th>\n      <th>121</th>\n      <th>122</th>\n    </tr>\n  </thead>\n  <tbody>\n    <tr>\n      <th>0</th>\n      <td>-1036.988779</td>\n      <td>2692.678981</td>\n      <td>3420.900358</td>\n      <td>-888.014875</td>\n      <td>-1113.951045</td>\n      <td>2807.133245</td>\n      <td>3377.513695</td>\n      <td>-1464.675013</td>\n      <td>-289.580176</td>\n      <td>213.117662</td>\n      <td>...</td>\n      <td>197.235981</td>\n      <td>-158.538608</td>\n      <td>-163.117598</td>\n      <td>164.336640</td>\n      <td>147.054111</td>\n      <td>-82.378241</td>\n      <td>198.517965</td>\n      <td>78.269472</td>\n      <td>-175.620422</td>\n      <td>55.311493</td>\n    </tr>\n    <tr>\n      <th>1</th>\n      <td>4921.428929</td>\n      <td>886.244409</td>\n      <td>183.700845</td>\n      <td>425.485301</td>\n      <td>383.917241</td>\n      <td>1662.479445</td>\n      <td>-1371.607531</td>\n      <td>569.768303</td>\n      <td>154.042680</td>\n      <td>161.694165</td>\n      <td>...</td>\n      <td>-39.313384</td>\n      <td>-153.186006</td>\n      <td>-188.777539</td>\n      <td>62.442820</td>\n      <td>-103.746387</td>\n      <td>131.804024</td>\n      <td>49.645063</td>\n      <td>-10.451518</td>\n      <td>-10.949770</td>\n      <td>-199.128270</td>\n    </tr>\n    <tr>\n      <th>2</th>\n      <td>942.126455</td>\n      <td>1628.882280</td>\n      <td>-1810.514571</td>\n      <td>579.381758</td>\n      <td>-4709.759817</td>\n      <td>-741.682166</td>\n      <td>296.041706</td>\n      <td>-1091.611557</td>\n      <td>-408.265586</td>\n      <td>-1206.627040</td>\n      <td>...</td>\n      <td>144.727756</td>\n      <td>34.470293</td>\n      <td>-124.779669</td>\n      <td>100.398109</td>\n      <td>-66.607898</td>\n      <td>112.060416</td>\n      <td>114.169405</td>\n      <td>-100.108376</td>\n      <td>-75.781025</td>\n      <td>-87.796256</td>\n    </tr>\n    <tr>\n      <th>3</th>\n      <td>-905.546255</td>\n      <td>-2176.183527</td>\n      <td>-779.073629</td>\n      <td>-3038.482965</td>\n      <td>1503.399469</td>\n      <td>1601.494653</td>\n      <td>24.023647</td>\n      <td>380.595853</td>\n      <td>-776.915624</td>\n      <td>416.780648</td>\n      <td>...</td>\n      <td>-23.997323</td>\n      <td>67.162909</td>\n      <td>241.922331</td>\n      <td>-113.451923</td>\n      <td>-209.791171</td>\n      <td>-166.795881</td>\n      <td>-267.657597</td>\n      <td>-50.719785</td>\n      <td>164.450806</td>\n      <td>226.605368</td>\n    </tr>\n    <tr>\n      <th>4</th>\n      <td>4624.850863</td>\n      <td>156.089424</td>\n      <td>-1299.290428</td>\n      <td>439.096417</td>\n      <td>3403.753387</td>\n      <td>-389.768351</td>\n      <td>-1438.531334</td>\n      <td>646.126079</td>\n      <td>1053.596170</td>\n      <td>-961.073890</td>\n      <td>...</td>\n      <td>123.000738</td>\n      <td>-164.072584</td>\n      <td>-141.123491</td>\n      <td>-266.234791</td>\n      <td>-62.946049</td>\n      <td>-132.851435</td>\n      <td>74.984740</td>\n      <td>174.026308</td>\n      <td>255.520992</td>\n      <td>-323.448398</td>\n    </tr>\n  </tbody>\n</table>\n<p>5 rows × 123 columns</p>\n</div>"
          },
          "metadata": {},
          "execution_count": 26
        }
      ]
    },
    {
      "cell_type": "code",
      "metadata": {
        "id": "EtXoCovYZXUh",
        "colab": {
          "base_uri": "https://localhost:8080/"
        },
        "outputId": "95c72852-b423-4413-a982-caeba70ec232"
      },
      "source": [
        "# MLP\n",
        "from sklearn.neural_network import MLPClassifier\n",
        "clf=MLPClassifier()\n",
        "clf_pca = MLPClassifier()\n",
        "clf.fit(x,y)\n",
        "clf_pca.fit(x_pca,y)"
      ],
      "execution_count": 27,
      "outputs": [
        {
          "output_type": "execute_result",
          "data": {
            "text/plain": [
              "MLPClassifier()"
            ]
          },
          "metadata": {},
          "execution_count": 27
        }
      ]
    },
    {
      "cell_type": "code",
      "metadata": {
        "id": "exGbiOV3bjxS"
      },
      "source": [
        "y_pred_pca = clf_pca.predict(test_x_pca)\n",
        "y_pred = clf.predict(test_x)"
      ],
      "execution_count": 28,
      "outputs": []
    },
    {
      "cell_type": "code",
      "metadata": {
        "id": "FfkPvto9bVE_",
        "colab": {
          "base_uri": "https://localhost:8080/"
        },
        "outputId": "99777ff4-713b-481a-d1e4-2d76dbf0bc7e"
      },
      "source": [
        "#Logistic Regeression\n",
        "from sklearn.linear_model import LogisticRegression\n",
        "clf_lr = LogisticRegression(random_state=0)\n",
        "clf_lr_pca = LogisticRegression(random_state=0)\n",
        "clf_lr.fit(x, y)\n",
        "clf_lr_pca.fit(x_pca,y)"
      ],
      "execution_count": 29,
      "outputs": [
        {
          "output_type": "stream",
          "name": "stderr",
          "text": [
            "C:\\Users\\tyagi\\AppData\\Local\\Programs\\Python\\Python38\\lib\\site-packages\\sklearn\\linear_model\\_logistic.py:763: ConvergenceWarning: lbfgs failed to converge (status=1):\nSTOP: TOTAL NO. of ITERATIONS REACHED LIMIT.\n\nIncrease the number of iterations (max_iter) or scale the data as shown in:\n    https://scikit-learn.org/stable/modules/preprocessing.html\nPlease also refer to the documentation for alternative solver options:\n    https://scikit-learn.org/stable/modules/linear_model.html#logistic-regression\n  n_iter_i = _check_optimize_result(\nC:\\Users\\tyagi\\AppData\\Local\\Programs\\Python\\Python38\\lib\\site-packages\\sklearn\\linear_model\\_logistic.py:763: ConvergenceWarning: lbfgs failed to converge (status=1):\nSTOP: TOTAL NO. of ITERATIONS REACHED LIMIT.\n\nIncrease the number of iterations (max_iter) or scale the data as shown in:\n    https://scikit-learn.org/stable/modules/preprocessing.html\nPlease also refer to the documentation for alternative solver options:\n    https://scikit-learn.org/stable/modules/linear_model.html#logistic-regression\n  n_iter_i = _check_optimize_result(\n"
          ]
        },
        {
          "output_type": "execute_result",
          "data": {
            "text/plain": [
              "LogisticRegression(random_state=0)"
            ]
          },
          "metadata": {},
          "execution_count": 29
        }
      ]
    },
    {
      "cell_type": "code",
      "metadata": {
        "id": "yf5LWG3hhE5r"
      },
      "source": [
        "y_pred_lr=clf_lr.predict(test_x)\n",
        "y_pred_lr_pca=clf_lr_pca.predict(test_x_pca)"
      ],
      "execution_count": 30,
      "outputs": []
    },
    {
      "cell_type": "code",
      "metadata": {
        "id": "M1e-Hu6GbZTP",
        "colab": {
          "base_uri": "https://localhost:8080/"
        },
        "outputId": "a931bd36-a7de-41a6-aadb-936e215fea96"
      },
      "source": [
        "#SVM\n",
        "from sklearn.svm import SVC\n",
        "clf_svm = SVC(kernel='linear', probability=True)\n",
        "clf_svm_pca = SVC(kernel='linear', probability=True)\n",
        "clf_svm.fit(x, y)\n",
        "clf_svm_pca.fit(x_pca,y)"
      ],
      "execution_count": 31,
      "outputs": [
        {
          "output_type": "execute_result",
          "data": {
            "text/plain": [
              "SVC(kernel='linear', probability=True)"
            ]
          },
          "metadata": {},
          "execution_count": 31
        }
      ]
    },
    {
      "cell_type": "code",
      "metadata": {
        "id": "n1hOl3zWbaj_"
      },
      "source": [
        "#svm\n",
        "y_pred_svm_pca=clf_svm_pca.predict(test_x_pca)\n",
        "y_pred_svm=clf_svm.predict(test_x)"
      ],
      "execution_count": 32,
      "outputs": []
    },
    {
      "cell_type": "code",
      "metadata": {
        "id": "5TN_RzEEbQkI",
        "colab": {
          "base_uri": "https://localhost:8080/"
        },
        "outputId": "4ba6e268-c0fe-4113-88d4-a23ce1022fab"
      },
      "source": [
        "print(f\"Accuracy by MLP without PCA : {accuracy_score(test_y, y_pred)}\")\n",
        "print(f\"Accuracy by MLP with PCA    : {accuracy_score(test_y, y_pred_pca)}\")\n",
        "print(f\"Accuracy by SVM without PCA : {accuracy_score(test_y, y_pred_svm)}\")\n",
        "print(f\"Accuracy by SVM with PCA    : {accuracy_score(test_y, y_pred_svm_pca)}\")\n",
        "print(f\"Accuracy by Logistic Regression without PCA : {accuracy_score(test_y, y_pred_lr)}\")\n",
        "print(f\"Accuracy by Logistic Regression with PCA    : {accuracy_score(test_y, y_pred_lr_pca)}\")\n",
        "\n",
        "print(\"\\n\")\n",
        "print(\"With 5 Fold Cross Validation\")\n",
        "\n",
        "print(f\"Accuracy by MLP without PCA : {cross_val_score(clf, test_x, test_y, cv=5).mean()}\")\n",
        "print(f\"Accuracy by MLP with PCA    : {cross_val_score(clf_pca, test_x, test_y, cv=5).mean()}\")\n",
        "print(f\"Accuracy by SVM without PCA : {cross_val_score(clf_svm, test_x, test_y, cv=5).mean()}\")\n",
        "print(f\"Accuracy by SVM with PCA    : {cross_val_score(clf_svm_pca, test_x, test_y, cv=5).mean()}\")\n",
        "print(f\"Accuracy by Logistic Regression without PCA : {cross_val_score(clf_lr, test_x, test_y, cv=5).mean()}\")\n",
        "print(f\"Accuracy by Logistic Regression with PCA    : {cross_val_score(clf_lr_pca, test_x, test_y, cv=5).mean()}\")"
      ],
      "execution_count": 33,
      "outputs": [
        {
          "output_type": "stream",
          "name": "stdout",
          "text": [
            "Accuracy by MLP without PCA : 0.49407114624505927\n",
            "Accuracy by MLP with PCA    : 0.83399209486166\n",
            "Accuracy by SVM without PCA : 0.9604743083003953\n",
            "Accuracy by SVM with PCA    : 0.9644268774703557\n",
            "Accuracy by Logistic Regression without PCA : 0.9565217391304348\n",
            "Accuracy by Logistic Regression with PCA    : 0.9723320158102767\n",
            "\n",
            "\n",
            "With 5 Fold Cross Validation\n",
            "Accuracy by MLP without PCA : 0.5100392156862745\n",
            "Accuracy by MLP with PCA    : 0.4901960784313726\n",
            "Accuracy by SVM without PCA : 0.8890196078431373\n",
            "Accuracy by SVM with PCA    : 0.8890196078431373\n",
            "C:\\Users\\tyagi\\AppData\\Local\\Programs\\Python\\Python38\\lib\\site-packages\\sklearn\\linear_model\\_logistic.py:763: ConvergenceWarning: lbfgs failed to converge (status=1):\n",
            "STOP: TOTAL NO. of ITERATIONS REACHED LIMIT.\n",
            "\n",
            "Increase the number of iterations (max_iter) or scale the data as shown in:\n",
            "    https://scikit-learn.org/stable/modules/preprocessing.html\n",
            "Please also refer to the documentation for alternative solver options:\n",
            "    https://scikit-learn.org/stable/modules/linear_model.html#logistic-regression\n",
            "  n_iter_i = _check_optimize_result(\n",
            "C:\\Users\\tyagi\\AppData\\Local\\Programs\\Python\\Python38\\lib\\site-packages\\sklearn\\linear_model\\_logistic.py:763: ConvergenceWarning: lbfgs failed to converge (status=1):\n",
            "STOP: TOTAL NO. of ITERATIONS REACHED LIMIT.\n",
            "\n",
            "Increase the number of iterations (max_iter) or scale the data as shown in:\n",
            "    https://scikit-learn.org/stable/modules/preprocessing.html\n",
            "Please also refer to the documentation for alternative solver options:\n",
            "    https://scikit-learn.org/stable/modules/linear_model.html#logistic-regression\n",
            "  n_iter_i = _check_optimize_result(\n",
            "C:\\Users\\tyagi\\AppData\\Local\\Programs\\Python\\Python38\\lib\\site-packages\\sklearn\\linear_model\\_logistic.py:763: ConvergenceWarning: lbfgs failed to converge (status=1):\n",
            "STOP: TOTAL NO. of ITERATIONS REACHED LIMIT.\n",
            "\n",
            "Increase the number of iterations (max_iter) or scale the data as shown in:\n",
            "    https://scikit-learn.org/stable/modules/preprocessing.html\n",
            "Please also refer to the documentation for alternative solver options:\n",
            "    https://scikit-learn.org/stable/modules/linear_model.html#logistic-regression\n",
            "  n_iter_i = _check_optimize_result(\n",
            "C:\\Users\\tyagi\\AppData\\Local\\Programs\\Python\\Python38\\lib\\site-packages\\sklearn\\linear_model\\_logistic.py:763: ConvergenceWarning: lbfgs failed to converge (status=1):\n",
            "STOP: TOTAL NO. of ITERATIONS REACHED LIMIT.\n",
            "\n",
            "Increase the number of iterations (max_iter) or scale the data as shown in:\n",
            "    https://scikit-learn.org/stable/modules/preprocessing.html\n",
            "Please also refer to the documentation for alternative solver options:\n",
            "    https://scikit-learn.org/stable/modules/linear_model.html#logistic-regression\n",
            "  n_iter_i = _check_optimize_result(\n",
            "C:\\Users\\tyagi\\AppData\\Local\\Programs\\Python\\Python38\\lib\\site-packages\\sklearn\\linear_model\\_logistic.py:763: ConvergenceWarning: lbfgs failed to converge (status=1):\n",
            "STOP: TOTAL NO. of ITERATIONS REACHED LIMIT.\n",
            "\n",
            "Increase the number of iterations (max_iter) or scale the data as shown in:\n",
            "    https://scikit-learn.org/stable/modules/preprocessing.html\n",
            "Please also refer to the documentation for alternative solver options:\n",
            "    https://scikit-learn.org/stable/modules/linear_model.html#logistic-regression\n",
            "  n_iter_i = _check_optimize_result(\n",
            "Accuracy by Logistic Regression without PCA : 0.8493333333333334\n",
            "C:\\Users\\tyagi\\AppData\\Local\\Programs\\Python\\Python38\\lib\\site-packages\\sklearn\\linear_model\\_logistic.py:763: ConvergenceWarning: lbfgs failed to converge (status=1):\n",
            "STOP: TOTAL NO. of ITERATIONS REACHED LIMIT.\n",
            "\n",
            "Increase the number of iterations (max_iter) or scale the data as shown in:\n",
            "    https://scikit-learn.org/stable/modules/preprocessing.html\n",
            "Please also refer to the documentation for alternative solver options:\n",
            "    https://scikit-learn.org/stable/modules/linear_model.html#logistic-regression\n",
            "  n_iter_i = _check_optimize_result(\n",
            "C:\\Users\\tyagi\\AppData\\Local\\Programs\\Python\\Python38\\lib\\site-packages\\sklearn\\linear_model\\_logistic.py:763: ConvergenceWarning: lbfgs failed to converge (status=1):\n",
            "STOP: TOTAL NO. of ITERATIONS REACHED LIMIT.\n",
            "\n",
            "Increase the number of iterations (max_iter) or scale the data as shown in:\n",
            "    https://scikit-learn.org/stable/modules/preprocessing.html\n",
            "Please also refer to the documentation for alternative solver options:\n",
            "    https://scikit-learn.org/stable/modules/linear_model.html#logistic-regression\n",
            "  n_iter_i = _check_optimize_result(\n",
            "C:\\Users\\tyagi\\AppData\\Local\\Programs\\Python\\Python38\\lib\\site-packages\\sklearn\\linear_model\\_logistic.py:763: ConvergenceWarning: lbfgs failed to converge (status=1):\n",
            "STOP: TOTAL NO. of ITERATIONS REACHED LIMIT.\n",
            "\n",
            "Increase the number of iterations (max_iter) or scale the data as shown in:\n",
            "    https://scikit-learn.org/stable/modules/preprocessing.html\n",
            "Please also refer to the documentation for alternative solver options:\n",
            "    https://scikit-learn.org/stable/modules/linear_model.html#logistic-regression\n",
            "  n_iter_i = _check_optimize_result(\n",
            "C:\\Users\\tyagi\\AppData\\Local\\Programs\\Python\\Python38\\lib\\site-packages\\sklearn\\linear_model\\_logistic.py:763: ConvergenceWarning: lbfgs failed to converge (status=1):\n",
            "STOP: TOTAL NO. of ITERATIONS REACHED LIMIT.\n",
            "\n",
            "Increase the number of iterations (max_iter) or scale the data as shown in:\n",
            "    https://scikit-learn.org/stable/modules/preprocessing.html\n",
            "Please also refer to the documentation for alternative solver options:\n",
            "    https://scikit-learn.org/stable/modules/linear_model.html#logistic-regression\n",
            "  n_iter_i = _check_optimize_result(\n",
            "Accuracy by Logistic Regression with PCA    : 0.8493333333333334\n",
            "C:\\Users\\tyagi\\AppData\\Local\\Programs\\Python\\Python38\\lib\\site-packages\\sklearn\\linear_model\\_logistic.py:763: ConvergenceWarning: lbfgs failed to converge (status=1):\n",
            "STOP: TOTAL NO. of ITERATIONS REACHED LIMIT.\n",
            "\n",
            "Increase the number of iterations (max_iter) or scale the data as shown in:\n",
            "    https://scikit-learn.org/stable/modules/preprocessing.html\n",
            "Please also refer to the documentation for alternative solver options:\n",
            "    https://scikit-learn.org/stable/modules/linear_model.html#logistic-regression\n",
            "  n_iter_i = _check_optimize_result(\n"
          ]
        }
      ]
    },
    {
      "cell_type": "code",
      "metadata": {
        "id": "zHXf37qGhtNV",
        "colab": {
          "base_uri": "https://localhost:8080/",
          "height": 286
        },
        "outputId": "34e84640-a395-4107-eff5-5547a774e69d"
      },
      "source": [
        "plot_data = {\n",
        "  \"model\" : ['MLP','MLP_PCA','SVM','SVM_PCA','Logistic Regeression','Logistic Regression_PCA'] ,\n",
        "  \"accuracies\": [accuracy_score(test_y, y_pred),accuracy_score(test_y, y_pred_pca),accuracy_score(test_y, y_pred_svm),accuracy_score(test_y, y_pred_svm_pca),accuracy_score(test_y, y_pred_lr),accuracy_score(test_y, y_pred_lr_pca)]\n",
        "}\n",
        "\n",
        "sns.set_theme(style=\"darkgrid\")\n",
        "plot_data=pd.DataFrame(plot_data)\n",
        "plt.figure(figsize=(14,4))\n",
        "sns.lineplot(data=plot_data, x=\"model\", y=\"accuracies\", markers=[\"o\", \"o\"])\n",
        "plt.show()"
      ],
      "execution_count": 34,
      "outputs": [
        {
          "output_type": "display_data",
          "data": {
            "text/plain": "<Figure size 1008x288 with 1 Axes>",
            "image/svg+xml": "<?xml version=\"1.0\" encoding=\"utf-8\" standalone=\"no\"?>\r\n<!DOCTYPE svg PUBLIC \"-//W3C//DTD SVG 1.1//EN\"\r\n  \"http://www.w3.org/Graphics/SVG/1.1/DTD/svg11.dtd\">\r\n<svg height=\"266.637188pt\" version=\"1.1\" viewBox=\"0 0 862.21669 266.637188\" width=\"862.21669pt\" xmlns=\"http://www.w3.org/2000/svg\" xmlns:xlink=\"http://www.w3.org/1999/xlink\">\r\n <metadata>\r\n  <rdf:RDF xmlns:cc=\"http://creativecommons.org/ns#\" xmlns:dc=\"http://purl.org/dc/elements/1.1/\" xmlns:rdf=\"http://www.w3.org/1999/02/22-rdf-syntax-ns#\">\r\n   <cc:Work>\r\n    <dc:type rdf:resource=\"http://purl.org/dc/dcmitype/StillImage\"/>\r\n    <dc:date>2021-05-18T16:03:51.121023</dc:date>\r\n    <dc:format>image/svg+xml</dc:format>\r\n    <dc:creator>\r\n     <cc:Agent>\r\n      <dc:title>Matplotlib v3.4.1, https://matplotlib.org/</dc:title>\r\n     </cc:Agent>\r\n    </dc:creator>\r\n   </cc:Work>\r\n  </rdf:RDF>\r\n </metadata>\r\n <defs>\r\n  <style type=\"text/css\">*{stroke-linecap:butt;stroke-linejoin:round;}</style>\r\n </defs>\r\n <g id=\"figure_1\">\r\n  <g id=\"patch_1\">\r\n   <path d=\"M 0 266.637188 \r\nL 862.21669 266.637188 \r\nL 862.21669 0 \r\nL 0 0 \r\nz\r\n\" style=\"fill:#ffffff;\"/>\r\n  </g>\r\n  <g id=\"axes_1\">\r\n   <g id=\"patch_2\">\r\n    <path d=\"M 46.964375 224.64 \r\nL 828.164375 224.64 \r\nL 828.164375 7.2 \r\nL 46.964375 7.2 \r\nz\r\n\" style=\"fill:#eaeaf2;\"/>\r\n   </g>\r\n   <g id=\"matplotlib.axis_1\">\r\n    <g id=\"xtick_1\">\r\n     <g id=\"line2d_1\">\r\n      <path clip-path=\"url(#p76abd85d72)\" d=\"M 82.473466 224.64 \r\nL 82.473466 7.2 \r\n\" style=\"fill:none;stroke:#ffffff;stroke-linecap:round;\"/>\r\n     </g>\r\n     <g id=\"text_1\">\r\n      <!-- MLP -->\r\n      <g style=\"fill:#262626;\" transform=\"translate(71.16495 242.013594)scale(0.11 -0.11)\">\r\n       <defs>\r\n        <path d=\"M 475 0 \r\nL 475 4581 \r\nL 1388 4581 \r\nL 2472 1338 \r\nQ 2622 884 2691 659 \r\nQ 2769 909 2934 1394 \r\nL 4031 4581 \r\nL 4847 4581 \r\nL 4847 0 \r\nL 4263 0 \r\nL 4263 3834 \r\nL 2931 0 \r\nL 2384 0 \r\nL 1059 3900 \r\nL 1059 0 \r\nL 475 0 \r\nz\r\n\" id=\"ArialMT-4d\" transform=\"scale(0.015625)\"/>\r\n        <path d=\"M 469 0 \r\nL 469 4581 \r\nL 1075 4581 \r\nL 1075 541 \r\nL 3331 541 \r\nL 3331 0 \r\nL 469 0 \r\nz\r\n\" id=\"ArialMT-4c\" transform=\"scale(0.015625)\"/>\r\n        <path d=\"M 494 0 \r\nL 494 4581 \r\nL 2222 4581 \r\nQ 2678 4581 2919 4538 \r\nQ 3256 4481 3484 4323 \r\nQ 3713 4166 3852 3881 \r\nQ 3991 3597 3991 3256 \r\nQ 3991 2672 3619 2267 \r\nQ 3247 1863 2275 1863 \r\nL 1100 1863 \r\nL 1100 0 \r\nL 494 0 \r\nz\r\nM 1100 2403 \r\nL 2284 2403 \r\nQ 2872 2403 3119 2622 \r\nQ 3366 2841 3366 3238 \r\nQ 3366 3525 3220 3729 \r\nQ 3075 3934 2838 4000 \r\nQ 2684 4041 2272 4041 \r\nL 1100 4041 \r\nL 1100 2403 \r\nz\r\n\" id=\"ArialMT-50\" transform=\"scale(0.015625)\"/>\r\n       </defs>\r\n       <use xlink:href=\"#ArialMT-4d\"/>\r\n       <use x=\"83.300781\" xlink:href=\"#ArialMT-4c\"/>\r\n       <use x=\"138.916016\" xlink:href=\"#ArialMT-50\"/>\r\n      </g>\r\n     </g>\r\n    </g>\r\n    <g id=\"xtick_2\">\r\n     <g id=\"line2d_2\">\r\n      <path clip-path=\"url(#p76abd85d72)\" d=\"M 224.50983 224.64 \r\nL 224.50983 7.2 \r\n\" style=\"fill:none;stroke:#ffffff;stroke-linecap:round;\"/>\r\n     </g>\r\n     <g id=\"text_2\">\r\n      <!-- MLP_PCA -->\r\n      <g style=\"fill:#262626;\" transform=\"translate(198.833423 242.147656)scale(0.11 -0.11)\">\r\n       <defs>\r\n        <path d=\"M -97 -1272 \r\nL -97 -866 \r\nL 3631 -866 \r\nL 3631 -1272 \r\nL -97 -1272 \r\nz\r\n\" id=\"ArialMT-5f\" transform=\"scale(0.015625)\"/>\r\n        <path d=\"M 3763 1606 \r\nL 4369 1453 \r\nQ 4178 706 3683 314 \r\nQ 3188 -78 2472 -78 \r\nQ 1731 -78 1267 223 \r\nQ 803 525 561 1097 \r\nQ 319 1669 319 2325 \r\nQ 319 3041 592 3573 \r\nQ 866 4106 1370 4382 \r\nQ 1875 4659 2481 4659 \r\nQ 3169 4659 3637 4309 \r\nQ 4106 3959 4291 3325 \r\nL 3694 3184 \r\nQ 3534 3684 3231 3912 \r\nQ 2928 4141 2469 4141 \r\nQ 1941 4141 1586 3887 \r\nQ 1231 3634 1087 3207 \r\nQ 944 2781 944 2328 \r\nQ 944 1744 1114 1308 \r\nQ 1284 872 1643 656 \r\nQ 2003 441 2422 441 \r\nQ 2931 441 3284 734 \r\nQ 3638 1028 3763 1606 \r\nz\r\n\" id=\"ArialMT-43\" transform=\"scale(0.015625)\"/>\r\n        <path d=\"M -9 0 \r\nL 1750 4581 \r\nL 2403 4581 \r\nL 4278 0 \r\nL 3588 0 \r\nL 3053 1388 \r\nL 1138 1388 \r\nL 634 0 \r\nL -9 0 \r\nz\r\nM 1313 1881 \r\nL 2866 1881 \r\nL 2388 3150 \r\nQ 2169 3728 2063 4100 \r\nQ 1975 3659 1816 3225 \r\nL 1313 1881 \r\nz\r\n\" id=\"ArialMT-41\" transform=\"scale(0.015625)\"/>\r\n       </defs>\r\n       <use xlink:href=\"#ArialMT-4d\"/>\r\n       <use x=\"83.300781\" xlink:href=\"#ArialMT-4c\"/>\r\n       <use x=\"138.916016\" xlink:href=\"#ArialMT-50\"/>\r\n       <use x=\"205.615234\" xlink:href=\"#ArialMT-5f\"/>\r\n       <use x=\"261.230469\" xlink:href=\"#ArialMT-50\"/>\r\n       <use x=\"327.929688\" xlink:href=\"#ArialMT-43\"/>\r\n       <use x=\"400.146484\" xlink:href=\"#ArialMT-41\"/>\r\n      </g>\r\n     </g>\r\n    </g>\r\n    <g id=\"xtick_3\">\r\n     <g id=\"line2d_3\">\r\n      <path clip-path=\"url(#p76abd85d72)\" d=\"M 366.546193 224.64 \r\nL 366.546193 7.2 \r\n\" style=\"fill:none;stroke:#ffffff;stroke-linecap:round;\"/>\r\n     </g>\r\n     <g id=\"text_3\">\r\n      <!-- SVM -->\r\n      <g style=\"fill:#262626;\" transform=\"translate(354.627521 242.013594)scale(0.11 -0.11)\">\r\n       <defs>\r\n        <path d=\"M 288 1472 \r\nL 859 1522 \r\nQ 900 1178 1048 958 \r\nQ 1197 738 1509 602 \r\nQ 1822 466 2213 466 \r\nQ 2559 466 2825 569 \r\nQ 3091 672 3220 851 \r\nQ 3350 1031 3350 1244 \r\nQ 3350 1459 3225 1620 \r\nQ 3100 1781 2813 1891 \r\nQ 2628 1963 1997 2114 \r\nQ 1366 2266 1113 2400 \r\nQ 784 2572 623 2826 \r\nQ 463 3081 463 3397 \r\nQ 463 3744 659 4045 \r\nQ 856 4347 1234 4503 \r\nQ 1613 4659 2075 4659 \r\nQ 2584 4659 2973 4495 \r\nQ 3363 4331 3572 4012 \r\nQ 3781 3694 3797 3291 \r\nL 3216 3247 \r\nQ 3169 3681 2898 3903 \r\nQ 2628 4125 2100 4125 \r\nQ 1550 4125 1298 3923 \r\nQ 1047 3722 1047 3438 \r\nQ 1047 3191 1225 3031 \r\nQ 1400 2872 2139 2705 \r\nQ 2878 2538 3153 2413 \r\nQ 3553 2228 3743 1945 \r\nQ 3934 1663 3934 1294 \r\nQ 3934 928 3725 604 \r\nQ 3516 281 3123 101 \r\nQ 2731 -78 2241 -78 \r\nQ 1619 -78 1198 103 \r\nQ 778 284 539 648 \r\nQ 300 1013 288 1472 \r\nz\r\n\" id=\"ArialMT-53\" transform=\"scale(0.015625)\"/>\r\n        <path d=\"M 1803 0 \r\nL 28 4581 \r\nL 684 4581 \r\nL 1875 1253 \r\nQ 2019 853 2116 503 \r\nQ 2222 878 2363 1253 \r\nL 3600 4581 \r\nL 4219 4581 \r\nL 2425 0 \r\nL 1803 0 \r\nz\r\n\" id=\"ArialMT-56\" transform=\"scale(0.015625)\"/>\r\n       </defs>\r\n       <use xlink:href=\"#ArialMT-53\"/>\r\n       <use x=\"66.699219\" xlink:href=\"#ArialMT-56\"/>\r\n       <use x=\"133.398438\" xlink:href=\"#ArialMT-4d\"/>\r\n      </g>\r\n     </g>\r\n    </g>\r\n    <g id=\"xtick_4\">\r\n     <g id=\"line2d_4\">\r\n      <path clip-path=\"url(#p76abd85d72)\" d=\"M 508.582557 224.64 \r\nL 508.582557 7.2 \r\n\" style=\"fill:none;stroke:#ffffff;stroke-linecap:round;\"/>\r\n     </g>\r\n     <g id=\"text_4\">\r\n      <!-- SVM_PCA -->\r\n      <g style=\"fill:#262626;\" transform=\"translate(482.295994 242.147656)scale(0.11 -0.11)\">\r\n       <use xlink:href=\"#ArialMT-53\"/>\r\n       <use x=\"66.699219\" xlink:href=\"#ArialMT-56\"/>\r\n       <use x=\"133.398438\" xlink:href=\"#ArialMT-4d\"/>\r\n       <use x=\"216.699219\" xlink:href=\"#ArialMT-5f\"/>\r\n       <use x=\"272.314453\" xlink:href=\"#ArialMT-50\"/>\r\n       <use x=\"339.013672\" xlink:href=\"#ArialMT-43\"/>\r\n       <use x=\"411.230469\" xlink:href=\"#ArialMT-41\"/>\r\n      </g>\r\n     </g>\r\n    </g>\r\n    <g id=\"xtick_5\">\r\n     <g id=\"line2d_5\">\r\n      <path clip-path=\"url(#p76abd85d72)\" d=\"M 650.61892 224.64 \r\nL 650.61892 7.2 \r\n\" style=\"fill:none;stroke:#ffffff;stroke-linecap:round;\"/>\r\n     </g>\r\n     <g id=\"text_5\">\r\n      <!-- Logistic Regeression -->\r\n      <g style=\"fill:#262626;\" transform=\"translate(599.566889 242.013594)scale(0.11 -0.11)\">\r\n       <defs>\r\n        <path d=\"M 213 1659 \r\nQ 213 2581 725 3025 \r\nQ 1153 3394 1769 3394 \r\nQ 2453 3394 2887 2945 \r\nQ 3322 2497 3322 1706 \r\nQ 3322 1066 3130 698 \r\nQ 2938 331 2570 128 \r\nQ 2203 -75 1769 -75 \r\nQ 1072 -75 642 372 \r\nQ 213 819 213 1659 \r\nz\r\nM 791 1659 \r\nQ 791 1022 1069 705 \r\nQ 1347 388 1769 388 \r\nQ 2188 388 2466 706 \r\nQ 2744 1025 2744 1678 \r\nQ 2744 2294 2464 2611 \r\nQ 2184 2928 1769 2928 \r\nQ 1347 2928 1069 2612 \r\nQ 791 2297 791 1659 \r\nz\r\n\" id=\"ArialMT-6f\" transform=\"scale(0.015625)\"/>\r\n        <path d=\"M 319 -275 \r\nL 866 -356 \r\nQ 900 -609 1056 -725 \r\nQ 1266 -881 1628 -881 \r\nQ 2019 -881 2231 -725 \r\nQ 2444 -569 2519 -288 \r\nQ 2563 -116 2559 434 \r\nQ 2191 0 1641 0 \r\nQ 956 0 581 494 \r\nQ 206 988 206 1678 \r\nQ 206 2153 378 2554 \r\nQ 550 2956 876 3175 \r\nQ 1203 3394 1644 3394 \r\nQ 2231 3394 2613 2919 \r\nL 2613 3319 \r\nL 3131 3319 \r\nL 3131 450 \r\nQ 3131 -325 2973 -648 \r\nQ 2816 -972 2473 -1159 \r\nQ 2131 -1347 1631 -1347 \r\nQ 1038 -1347 672 -1080 \r\nQ 306 -813 319 -275 \r\nz\r\nM 784 1719 \r\nQ 784 1066 1043 766 \r\nQ 1303 466 1694 466 \r\nQ 2081 466 2343 764 \r\nQ 2606 1063 2606 1700 \r\nQ 2606 2309 2336 2618 \r\nQ 2066 2928 1684 2928 \r\nQ 1309 2928 1046 2623 \r\nQ 784 2319 784 1719 \r\nz\r\n\" id=\"ArialMT-67\" transform=\"scale(0.015625)\"/>\r\n        <path d=\"M 425 3934 \r\nL 425 4581 \r\nL 988 4581 \r\nL 988 3934 \r\nL 425 3934 \r\nz\r\nM 425 0 \r\nL 425 3319 \r\nL 988 3319 \r\nL 988 0 \r\nL 425 0 \r\nz\r\n\" id=\"ArialMT-69\" transform=\"scale(0.015625)\"/>\r\n        <path d=\"M 197 991 \r\nL 753 1078 \r\nQ 800 744 1014 566 \r\nQ 1228 388 1613 388 \r\nQ 2000 388 2187 545 \r\nQ 2375 703 2375 916 \r\nQ 2375 1106 2209 1216 \r\nQ 2094 1291 1634 1406 \r\nQ 1016 1563 777 1677 \r\nQ 538 1791 414 1992 \r\nQ 291 2194 291 2438 \r\nQ 291 2659 392 2848 \r\nQ 494 3038 669 3163 \r\nQ 800 3259 1026 3326 \r\nQ 1253 3394 1513 3394 \r\nQ 1903 3394 2198 3281 \r\nQ 2494 3169 2634 2976 \r\nQ 2775 2784 2828 2463 \r\nL 2278 2388 \r\nQ 2241 2644 2061 2787 \r\nQ 1881 2931 1553 2931 \r\nQ 1166 2931 1000 2803 \r\nQ 834 2675 834 2503 \r\nQ 834 2394 903 2306 \r\nQ 972 2216 1119 2156 \r\nQ 1203 2125 1616 2013 \r\nQ 2213 1853 2448 1751 \r\nQ 2684 1650 2818 1456 \r\nQ 2953 1263 2953 975 \r\nQ 2953 694 2789 445 \r\nQ 2625 197 2315 61 \r\nQ 2006 -75 1616 -75 \r\nQ 969 -75 630 194 \r\nQ 291 463 197 991 \r\nz\r\n\" id=\"ArialMT-73\" transform=\"scale(0.015625)\"/>\r\n        <path d=\"M 1650 503 \r\nL 1731 6 \r\nQ 1494 -44 1306 -44 \r\nQ 1000 -44 831 53 \r\nQ 663 150 594 308 \r\nQ 525 466 525 972 \r\nL 525 2881 \r\nL 113 2881 \r\nL 113 3319 \r\nL 525 3319 \r\nL 525 4141 \r\nL 1084 4478 \r\nL 1084 3319 \r\nL 1650 3319 \r\nL 1650 2881 \r\nL 1084 2881 \r\nL 1084 941 \r\nQ 1084 700 1114 631 \r\nQ 1144 563 1211 522 \r\nQ 1278 481 1403 481 \r\nQ 1497 481 1650 503 \r\nz\r\n\" id=\"ArialMT-74\" transform=\"scale(0.015625)\"/>\r\n        <path d=\"M 2588 1216 \r\nL 3141 1144 \r\nQ 3050 572 2676 248 \r\nQ 2303 -75 1759 -75 \r\nQ 1078 -75 664 370 \r\nQ 250 816 250 1647 \r\nQ 250 2184 428 2587 \r\nQ 606 2991 970 3192 \r\nQ 1334 3394 1763 3394 \r\nQ 2303 3394 2647 3120 \r\nQ 2991 2847 3088 2344 \r\nL 2541 2259 \r\nQ 2463 2594 2264 2762 \r\nQ 2066 2931 1784 2931 \r\nQ 1359 2931 1093 2626 \r\nQ 828 2322 828 1663 \r\nQ 828 994 1084 691 \r\nQ 1341 388 1753 388 \r\nQ 2084 388 2306 591 \r\nQ 2528 794 2588 1216 \r\nz\r\n\" id=\"ArialMT-63\" transform=\"scale(0.015625)\"/>\r\n        <path id=\"ArialMT-20\" transform=\"scale(0.015625)\"/>\r\n        <path d=\"M 503 0 \r\nL 503 4581 \r\nL 2534 4581 \r\nQ 3147 4581 3465 4457 \r\nQ 3784 4334 3975 4021 \r\nQ 4166 3709 4166 3331 \r\nQ 4166 2844 3850 2509 \r\nQ 3534 2175 2875 2084 \r\nQ 3116 1969 3241 1856 \r\nQ 3506 1613 3744 1247 \r\nL 4541 0 \r\nL 3778 0 \r\nL 3172 953 \r\nQ 2906 1366 2734 1584 \r\nQ 2563 1803 2427 1890 \r\nQ 2291 1978 2150 2013 \r\nQ 2047 2034 1813 2034 \r\nL 1109 2034 \r\nL 1109 0 \r\nL 503 0 \r\nz\r\nM 1109 2559 \r\nL 2413 2559 \r\nQ 2828 2559 3062 2645 \r\nQ 3297 2731 3419 2920 \r\nQ 3541 3109 3541 3331 \r\nQ 3541 3656 3305 3865 \r\nQ 3069 4075 2559 4075 \r\nL 1109 4075 \r\nL 1109 2559 \r\nz\r\n\" id=\"ArialMT-52\" transform=\"scale(0.015625)\"/>\r\n        <path d=\"M 2694 1069 \r\nL 3275 997 \r\nQ 3138 488 2766 206 \r\nQ 2394 -75 1816 -75 \r\nQ 1088 -75 661 373 \r\nQ 234 822 234 1631 \r\nQ 234 2469 665 2931 \r\nQ 1097 3394 1784 3394 \r\nQ 2450 3394 2872 2941 \r\nQ 3294 2488 3294 1666 \r\nQ 3294 1616 3291 1516 \r\nL 816 1516 \r\nQ 847 969 1125 678 \r\nQ 1403 388 1819 388 \r\nQ 2128 388 2347 550 \r\nQ 2566 713 2694 1069 \r\nz\r\nM 847 1978 \r\nL 2700 1978 \r\nQ 2663 2397 2488 2606 \r\nQ 2219 2931 1791 2931 \r\nQ 1403 2931 1139 2672 \r\nQ 875 2413 847 1978 \r\nz\r\n\" id=\"ArialMT-65\" transform=\"scale(0.015625)\"/>\r\n        <path d=\"M 416 0 \r\nL 416 3319 \r\nL 922 3319 \r\nL 922 2816 \r\nQ 1116 3169 1280 3281 \r\nQ 1444 3394 1641 3394 \r\nQ 1925 3394 2219 3213 \r\nL 2025 2691 \r\nQ 1819 2813 1613 2813 \r\nQ 1428 2813 1281 2702 \r\nQ 1134 2591 1072 2394 \r\nQ 978 2094 978 1738 \r\nL 978 0 \r\nL 416 0 \r\nz\r\n\" id=\"ArialMT-72\" transform=\"scale(0.015625)\"/>\r\n        <path d=\"M 422 0 \r\nL 422 3319 \r\nL 928 3319 \r\nL 928 2847 \r\nQ 1294 3394 1984 3394 \r\nQ 2284 3394 2536 3286 \r\nQ 2788 3178 2913 3003 \r\nQ 3038 2828 3088 2588 \r\nQ 3119 2431 3119 2041 \r\nL 3119 0 \r\nL 2556 0 \r\nL 2556 2019 \r\nQ 2556 2363 2490 2533 \r\nQ 2425 2703 2258 2804 \r\nQ 2091 2906 1866 2906 \r\nQ 1506 2906 1245 2678 \r\nQ 984 2450 984 1813 \r\nL 984 0 \r\nL 422 0 \r\nz\r\n\" id=\"ArialMT-6e\" transform=\"scale(0.015625)\"/>\r\n       </defs>\r\n       <use xlink:href=\"#ArialMT-4c\"/>\r\n       <use x=\"55.615234\" xlink:href=\"#ArialMT-6f\"/>\r\n       <use x=\"111.230469\" xlink:href=\"#ArialMT-67\"/>\r\n       <use x=\"166.845703\" xlink:href=\"#ArialMT-69\"/>\r\n       <use x=\"189.0625\" xlink:href=\"#ArialMT-73\"/>\r\n       <use x=\"239.0625\" xlink:href=\"#ArialMT-74\"/>\r\n       <use x=\"266.845703\" xlink:href=\"#ArialMT-69\"/>\r\n       <use x=\"289.0625\" xlink:href=\"#ArialMT-63\"/>\r\n       <use x=\"339.0625\" xlink:href=\"#ArialMT-20\"/>\r\n       <use x=\"366.845703\" xlink:href=\"#ArialMT-52\"/>\r\n       <use x=\"439.0625\" xlink:href=\"#ArialMT-65\"/>\r\n       <use x=\"494.677734\" xlink:href=\"#ArialMT-67\"/>\r\n       <use x=\"550.292969\" xlink:href=\"#ArialMT-65\"/>\r\n       <use x=\"605.908203\" xlink:href=\"#ArialMT-72\"/>\r\n       <use x=\"639.208984\" xlink:href=\"#ArialMT-65\"/>\r\n       <use x=\"694.824219\" xlink:href=\"#ArialMT-73\"/>\r\n       <use x=\"744.824219\" xlink:href=\"#ArialMT-73\"/>\r\n       <use x=\"794.824219\" xlink:href=\"#ArialMT-69\"/>\r\n       <use x=\"817.041016\" xlink:href=\"#ArialMT-6f\"/>\r\n       <use x=\"872.65625\" xlink:href=\"#ArialMT-6e\"/>\r\n      </g>\r\n     </g>\r\n    </g>\r\n    <g id=\"xtick_6\">\r\n     <g id=\"line2d_6\">\r\n      <path clip-path=\"url(#p76abd85d72)\" d=\"M 792.655284 224.64 \r\nL 792.655284 7.2 \r\n\" style=\"fill:none;stroke:#ffffff;stroke-linecap:round;\"/>\r\n     </g>\r\n     <g id=\"text_6\">\r\n      <!-- Logistic Regression_PCA -->\r\n      <g style=\"fill:#262626;\" transform=\"translate(730.293878 242.147656)scale(0.11 -0.11)\">\r\n       <use xlink:href=\"#ArialMT-4c\"/>\r\n       <use x=\"55.615234\" xlink:href=\"#ArialMT-6f\"/>\r\n       <use x=\"111.230469\" xlink:href=\"#ArialMT-67\"/>\r\n       <use x=\"166.845703\" xlink:href=\"#ArialMT-69\"/>\r\n       <use x=\"189.0625\" xlink:href=\"#ArialMT-73\"/>\r\n       <use x=\"239.0625\" xlink:href=\"#ArialMT-74\"/>\r\n       <use x=\"266.845703\" xlink:href=\"#ArialMT-69\"/>\r\n       <use x=\"289.0625\" xlink:href=\"#ArialMT-63\"/>\r\n       <use x=\"339.0625\" xlink:href=\"#ArialMT-20\"/>\r\n       <use x=\"366.845703\" xlink:href=\"#ArialMT-52\"/>\r\n       <use x=\"439.0625\" xlink:href=\"#ArialMT-65\"/>\r\n       <use x=\"494.677734\" xlink:href=\"#ArialMT-67\"/>\r\n       <use x=\"550.292969\" xlink:href=\"#ArialMT-72\"/>\r\n       <use x=\"583.59375\" xlink:href=\"#ArialMT-65\"/>\r\n       <use x=\"639.208984\" xlink:href=\"#ArialMT-73\"/>\r\n       <use x=\"689.208984\" xlink:href=\"#ArialMT-73\"/>\r\n       <use x=\"739.208984\" xlink:href=\"#ArialMT-69\"/>\r\n       <use x=\"761.425781\" xlink:href=\"#ArialMT-6f\"/>\r\n       <use x=\"817.041016\" xlink:href=\"#ArialMT-6e\"/>\r\n       <use x=\"872.65625\" xlink:href=\"#ArialMT-5f\"/>\r\n       <use x=\"928.271484\" xlink:href=\"#ArialMT-50\"/>\r\n       <use x=\"994.970703\" xlink:href=\"#ArialMT-43\"/>\r\n       <use x=\"1067.1875\" xlink:href=\"#ArialMT-41\"/>\r\n      </g>\r\n     </g>\r\n    </g>\r\n    <g id=\"text_7\">\r\n     <!-- model -->\r\n     <g style=\"fill:#262626;\" transform=\"translate(421.22375 257.052188)scale(0.12 -0.12)\">\r\n      <defs>\r\n       <path d=\"M 422 0 \r\nL 422 3319 \r\nL 925 3319 \r\nL 925 2853 \r\nQ 1081 3097 1340 3245 \r\nQ 1600 3394 1931 3394 \r\nQ 2300 3394 2536 3241 \r\nQ 2772 3088 2869 2813 \r\nQ 3263 3394 3894 3394 \r\nQ 4388 3394 4653 3120 \r\nQ 4919 2847 4919 2278 \r\nL 4919 0 \r\nL 4359 0 \r\nL 4359 2091 \r\nQ 4359 2428 4304 2576 \r\nQ 4250 2725 4106 2815 \r\nQ 3963 2906 3769 2906 \r\nQ 3419 2906 3187 2673 \r\nQ 2956 2441 2956 1928 \r\nL 2956 0 \r\nL 2394 0 \r\nL 2394 2156 \r\nQ 2394 2531 2256 2718 \r\nQ 2119 2906 1806 2906 \r\nQ 1569 2906 1367 2781 \r\nQ 1166 2656 1075 2415 \r\nQ 984 2175 984 1722 \r\nL 984 0 \r\nL 422 0 \r\nz\r\n\" id=\"ArialMT-6d\" transform=\"scale(0.015625)\"/>\r\n       <path d=\"M 2575 0 \r\nL 2575 419 \r\nQ 2259 -75 1647 -75 \r\nQ 1250 -75 917 144 \r\nQ 584 363 401 755 \r\nQ 219 1147 219 1656 \r\nQ 219 2153 384 2558 \r\nQ 550 2963 881 3178 \r\nQ 1213 3394 1622 3394 \r\nQ 1922 3394 2156 3267 \r\nQ 2391 3141 2538 2938 \r\nL 2538 4581 \r\nL 3097 4581 \r\nL 3097 0 \r\nL 2575 0 \r\nz\r\nM 797 1656 \r\nQ 797 1019 1065 703 \r\nQ 1334 388 1700 388 \r\nQ 2069 388 2326 689 \r\nQ 2584 991 2584 1609 \r\nQ 2584 2291 2321 2609 \r\nQ 2059 2928 1675 2928 \r\nQ 1300 2928 1048 2622 \r\nQ 797 2316 797 1656 \r\nz\r\n\" id=\"ArialMT-64\" transform=\"scale(0.015625)\"/>\r\n       <path d=\"M 409 0 \r\nL 409 4581 \r\nL 972 4581 \r\nL 972 0 \r\nL 409 0 \r\nz\r\n\" id=\"ArialMT-6c\" transform=\"scale(0.015625)\"/>\r\n      </defs>\r\n      <use xlink:href=\"#ArialMT-6d\"/>\r\n      <use x=\"83.300781\" xlink:href=\"#ArialMT-6f\"/>\r\n      <use x=\"138.916016\" xlink:href=\"#ArialMT-64\"/>\r\n      <use x=\"194.53125\" xlink:href=\"#ArialMT-65\"/>\r\n      <use x=\"250.146484\" xlink:href=\"#ArialMT-6c\"/>\r\n     </g>\r\n    </g>\r\n   </g>\r\n   <g id=\"matplotlib.axis_2\">\r\n    <g id=\"ytick_1\">\r\n     <g id=\"line2d_7\">\r\n      <path clip-path=\"url(#p76abd85d72)\" d=\"M 46.964375 212.305875 \r\nL 828.164375 212.305875 \r\n\" style=\"fill:none;stroke:#ffffff;stroke-linecap:round;\"/>\r\n     </g>\r\n     <g id=\"text_8\">\r\n      <!-- 0.5 -->\r\n      <g style=\"fill:#262626;\" transform=\"translate(22.174375 216.242672)scale(0.11 -0.11)\">\r\n       <defs>\r\n        <path d=\"M 266 2259 \r\nQ 266 3072 433 3567 \r\nQ 600 4063 929 4331 \r\nQ 1259 4600 1759 4600 \r\nQ 2128 4600 2406 4451 \r\nQ 2684 4303 2865 4023 \r\nQ 3047 3744 3150 3342 \r\nQ 3253 2941 3253 2259 \r\nQ 3253 1453 3087 958 \r\nQ 2922 463 2592 192 \r\nQ 2263 -78 1759 -78 \r\nQ 1097 -78 719 397 \r\nQ 266 969 266 2259 \r\nz\r\nM 844 2259 \r\nQ 844 1131 1108 757 \r\nQ 1372 384 1759 384 \r\nQ 2147 384 2411 759 \r\nQ 2675 1134 2675 2259 \r\nQ 2675 3391 2411 3762 \r\nQ 2147 4134 1753 4134 \r\nQ 1366 4134 1134 3806 \r\nQ 844 3388 844 2259 \r\nz\r\n\" id=\"ArialMT-30\" transform=\"scale(0.015625)\"/>\r\n        <path d=\"M 581 0 \r\nL 581 641 \r\nL 1222 641 \r\nL 1222 0 \r\nL 581 0 \r\nz\r\n\" id=\"ArialMT-2e\" transform=\"scale(0.015625)\"/>\r\n        <path d=\"M 266 1200 \r\nL 856 1250 \r\nQ 922 819 1161 601 \r\nQ 1400 384 1738 384 \r\nQ 2144 384 2425 690 \r\nQ 2706 997 2706 1503 \r\nQ 2706 1984 2436 2262 \r\nQ 2166 2541 1728 2541 \r\nQ 1456 2541 1237 2417 \r\nQ 1019 2294 894 2097 \r\nL 366 2166 \r\nL 809 4519 \r\nL 3088 4519 \r\nL 3088 3981 \r\nL 1259 3981 \r\nL 1013 2750 \r\nQ 1425 3038 1878 3038 \r\nQ 2478 3038 2890 2622 \r\nQ 3303 2206 3303 1553 \r\nQ 3303 931 2941 478 \r\nQ 2500 -78 1738 -78 \r\nQ 1113 -78 717 272 \r\nQ 322 622 266 1200 \r\nz\r\n\" id=\"ArialMT-35\" transform=\"scale(0.015625)\"/>\r\n       </defs>\r\n       <use xlink:href=\"#ArialMT-30\"/>\r\n       <use x=\"55.615234\" xlink:href=\"#ArialMT-2e\"/>\r\n       <use x=\"83.398438\" xlink:href=\"#ArialMT-35\"/>\r\n      </g>\r\n     </g>\r\n    </g>\r\n    <g id=\"ytick_2\">\r\n     <g id=\"line2d_8\">\r\n      <path clip-path=\"url(#p76abd85d72)\" d=\"M 46.964375 170.974305 \r\nL 828.164375 170.974305 \r\n\" style=\"fill:none;stroke:#ffffff;stroke-linecap:round;\"/>\r\n     </g>\r\n     <g id=\"text_9\">\r\n      <!-- 0.6 -->\r\n      <g style=\"fill:#262626;\" transform=\"translate(22.174375 174.911102)scale(0.11 -0.11)\">\r\n       <defs>\r\n        <path d=\"M 3184 3459 \r\nL 2625 3416 \r\nQ 2550 3747 2413 3897 \r\nQ 2184 4138 1850 4138 \r\nQ 1581 4138 1378 3988 \r\nQ 1113 3794 959 3422 \r\nQ 806 3050 800 2363 \r\nQ 1003 2672 1297 2822 \r\nQ 1591 2972 1913 2972 \r\nQ 2475 2972 2870 2558 \r\nQ 3266 2144 3266 1488 \r\nQ 3266 1056 3080 686 \r\nQ 2894 316 2569 119 \r\nQ 2244 -78 1831 -78 \r\nQ 1128 -78 684 439 \r\nQ 241 956 241 2144 \r\nQ 241 3472 731 4075 \r\nQ 1159 4600 1884 4600 \r\nQ 2425 4600 2770 4297 \r\nQ 3116 3994 3184 3459 \r\nz\r\nM 888 1484 \r\nQ 888 1194 1011 928 \r\nQ 1134 663 1356 523 \r\nQ 1578 384 1822 384 \r\nQ 2178 384 2434 671 \r\nQ 2691 959 2691 1453 \r\nQ 2691 1928 2437 2201 \r\nQ 2184 2475 1800 2475 \r\nQ 1419 2475 1153 2201 \r\nQ 888 1928 888 1484 \r\nz\r\n\" id=\"ArialMT-36\" transform=\"scale(0.015625)\"/>\r\n       </defs>\r\n       <use xlink:href=\"#ArialMT-30\"/>\r\n       <use x=\"55.615234\" xlink:href=\"#ArialMT-2e\"/>\r\n       <use x=\"83.398438\" xlink:href=\"#ArialMT-36\"/>\r\n      </g>\r\n     </g>\r\n    </g>\r\n    <g id=\"ytick_3\">\r\n     <g id=\"line2d_9\">\r\n      <path clip-path=\"url(#p76abd85d72)\" d=\"M 46.964375 129.642735 \r\nL 828.164375 129.642735 \r\n\" style=\"fill:none;stroke:#ffffff;stroke-linecap:round;\"/>\r\n     </g>\r\n     <g id=\"text_10\">\r\n      <!-- 0.7 -->\r\n      <g style=\"fill:#262626;\" transform=\"translate(22.174375 133.579532)scale(0.11 -0.11)\">\r\n       <defs>\r\n        <path d=\"M 303 3981 \r\nL 303 4522 \r\nL 3269 4522 \r\nL 3269 4084 \r\nQ 2831 3619 2401 2847 \r\nQ 1972 2075 1738 1259 \r\nQ 1569 684 1522 0 \r\nL 944 0 \r\nQ 953 541 1156 1306 \r\nQ 1359 2072 1739 2783 \r\nQ 2119 3494 2547 3981 \r\nL 303 3981 \r\nz\r\n\" id=\"ArialMT-37\" transform=\"scale(0.015625)\"/>\r\n       </defs>\r\n       <use xlink:href=\"#ArialMT-30\"/>\r\n       <use x=\"55.615234\" xlink:href=\"#ArialMT-2e\"/>\r\n       <use x=\"83.398438\" xlink:href=\"#ArialMT-37\"/>\r\n      </g>\r\n     </g>\r\n    </g>\r\n    <g id=\"ytick_4\">\r\n     <g id=\"line2d_10\">\r\n      <path clip-path=\"url(#p76abd85d72)\" d=\"M 46.964375 88.311165 \r\nL 828.164375 88.311165 \r\n\" style=\"fill:none;stroke:#ffffff;stroke-linecap:round;\"/>\r\n     </g>\r\n     <g id=\"text_11\">\r\n      <!-- 0.8 -->\r\n      <g style=\"fill:#262626;\" transform=\"translate(22.174375 92.247961)scale(0.11 -0.11)\">\r\n       <defs>\r\n        <path d=\"M 1131 2484 \r\nQ 781 2613 612 2850 \r\nQ 444 3088 444 3419 \r\nQ 444 3919 803 4259 \r\nQ 1163 4600 1759 4600 \r\nQ 2359 4600 2725 4251 \r\nQ 3091 3903 3091 3403 \r\nQ 3091 3084 2923 2848 \r\nQ 2756 2613 2416 2484 \r\nQ 2838 2347 3058 2040 \r\nQ 3278 1734 3278 1309 \r\nQ 3278 722 2862 322 \r\nQ 2447 -78 1769 -78 \r\nQ 1091 -78 675 323 \r\nQ 259 725 259 1325 \r\nQ 259 1772 486 2073 \r\nQ 713 2375 1131 2484 \r\nz\r\nM 1019 3438 \r\nQ 1019 3113 1228 2906 \r\nQ 1438 2700 1772 2700 \r\nQ 2097 2700 2305 2904 \r\nQ 2513 3109 2513 3406 \r\nQ 2513 3716 2298 3927 \r\nQ 2084 4138 1766 4138 \r\nQ 1444 4138 1231 3931 \r\nQ 1019 3725 1019 3438 \r\nz\r\nM 838 1322 \r\nQ 838 1081 952 856 \r\nQ 1066 631 1291 507 \r\nQ 1516 384 1775 384 \r\nQ 2178 384 2440 643 \r\nQ 2703 903 2703 1303 \r\nQ 2703 1709 2433 1975 \r\nQ 2163 2241 1756 2241 \r\nQ 1359 2241 1098 1978 \r\nQ 838 1716 838 1322 \r\nz\r\n\" id=\"ArialMT-38\" transform=\"scale(0.015625)\"/>\r\n       </defs>\r\n       <use xlink:href=\"#ArialMT-30\"/>\r\n       <use x=\"55.615234\" xlink:href=\"#ArialMT-2e\"/>\r\n       <use x=\"83.398438\" xlink:href=\"#ArialMT-38\"/>\r\n      </g>\r\n     </g>\r\n    </g>\r\n    <g id=\"ytick_5\">\r\n     <g id=\"line2d_11\">\r\n      <path clip-path=\"url(#p76abd85d72)\" d=\"M 46.964375 46.979594 \r\nL 828.164375 46.979594 \r\n\" style=\"fill:none;stroke:#ffffff;stroke-linecap:round;\"/>\r\n     </g>\r\n     <g id=\"text_12\">\r\n      <!-- 0.9 -->\r\n      <g style=\"fill:#262626;\" transform=\"translate(22.174375 50.916391)scale(0.11 -0.11)\">\r\n       <defs>\r\n        <path d=\"M 350 1059 \r\nL 891 1109 \r\nQ 959 728 1153 556 \r\nQ 1347 384 1650 384 \r\nQ 1909 384 2104 503 \r\nQ 2300 622 2425 820 \r\nQ 2550 1019 2634 1356 \r\nQ 2719 1694 2719 2044 \r\nQ 2719 2081 2716 2156 \r\nQ 2547 1888 2255 1720 \r\nQ 1963 1553 1622 1553 \r\nQ 1053 1553 659 1965 \r\nQ 266 2378 266 3053 \r\nQ 266 3750 677 4175 \r\nQ 1088 4600 1706 4600 \r\nQ 2153 4600 2523 4359 \r\nQ 2894 4119 3086 3673 \r\nQ 3278 3228 3278 2384 \r\nQ 3278 1506 3087 986 \r\nQ 2897 466 2520 194 \r\nQ 2144 -78 1638 -78 \r\nQ 1100 -78 759 220 \r\nQ 419 519 350 1059 \r\nz\r\nM 2653 3081 \r\nQ 2653 3566 2395 3850 \r\nQ 2138 4134 1775 4134 \r\nQ 1400 4134 1122 3828 \r\nQ 844 3522 844 3034 \r\nQ 844 2597 1108 2323 \r\nQ 1372 2050 1759 2050 \r\nQ 2150 2050 2401 2323 \r\nQ 2653 2597 2653 3081 \r\nz\r\n\" id=\"ArialMT-39\" transform=\"scale(0.015625)\"/>\r\n       </defs>\r\n       <use xlink:href=\"#ArialMT-30\"/>\r\n       <use x=\"55.615234\" xlink:href=\"#ArialMT-2e\"/>\r\n       <use x=\"83.398438\" xlink:href=\"#ArialMT-39\"/>\r\n      </g>\r\n     </g>\r\n    </g>\r\n    <g id=\"text_13\">\r\n     <!-- accuracies -->\r\n     <g style=\"fill:#262626;\" transform=\"translate(15.789375 144.597188)rotate(-90)scale(0.12 -0.12)\">\r\n      <defs>\r\n       <path d=\"M 2588 409 \r\nQ 2275 144 1986 34 \r\nQ 1697 -75 1366 -75 \r\nQ 819 -75 525 192 \r\nQ 231 459 231 875 \r\nQ 231 1119 342 1320 \r\nQ 453 1522 633 1644 \r\nQ 813 1766 1038 1828 \r\nQ 1203 1872 1538 1913 \r\nQ 2219 1994 2541 2106 \r\nQ 2544 2222 2544 2253 \r\nQ 2544 2597 2384 2738 \r\nQ 2169 2928 1744 2928 \r\nQ 1347 2928 1158 2789 \r\nQ 969 2650 878 2297 \r\nL 328 2372 \r\nQ 403 2725 575 2942 \r\nQ 747 3159 1072 3276 \r\nQ 1397 3394 1825 3394 \r\nQ 2250 3394 2515 3294 \r\nQ 2781 3194 2906 3042 \r\nQ 3031 2891 3081 2659 \r\nQ 3109 2516 3109 2141 \r\nL 3109 1391 \r\nQ 3109 606 3145 398 \r\nQ 3181 191 3288 0 \r\nL 2700 0 \r\nQ 2613 175 2588 409 \r\nz\r\nM 2541 1666 \r\nQ 2234 1541 1622 1453 \r\nQ 1275 1403 1131 1340 \r\nQ 988 1278 909 1158 \r\nQ 831 1038 831 891 \r\nQ 831 666 1001 516 \r\nQ 1172 366 1500 366 \r\nQ 1825 366 2078 508 \r\nQ 2331 650 2450 897 \r\nQ 2541 1088 2541 1459 \r\nL 2541 1666 \r\nz\r\n\" id=\"ArialMT-61\" transform=\"scale(0.015625)\"/>\r\n       <path d=\"M 2597 0 \r\nL 2597 488 \r\nQ 2209 -75 1544 -75 \r\nQ 1250 -75 995 37 \r\nQ 741 150 617 320 \r\nQ 494 491 444 738 \r\nQ 409 903 409 1263 \r\nL 409 3319 \r\nL 972 3319 \r\nL 972 1478 \r\nQ 972 1038 1006 884 \r\nQ 1059 663 1231 536 \r\nQ 1403 409 1656 409 \r\nQ 1909 409 2131 539 \r\nQ 2353 669 2445 892 \r\nQ 2538 1116 2538 1541 \r\nL 2538 3319 \r\nL 3100 3319 \r\nL 3100 0 \r\nL 2597 0 \r\nz\r\n\" id=\"ArialMT-75\" transform=\"scale(0.015625)\"/>\r\n      </defs>\r\n      <use xlink:href=\"#ArialMT-61\"/>\r\n      <use x=\"55.615234\" xlink:href=\"#ArialMT-63\"/>\r\n      <use x=\"105.615234\" xlink:href=\"#ArialMT-63\"/>\r\n      <use x=\"155.615234\" xlink:href=\"#ArialMT-75\"/>\r\n      <use x=\"211.230469\" xlink:href=\"#ArialMT-72\"/>\r\n      <use x=\"244.53125\" xlink:href=\"#ArialMT-61\"/>\r\n      <use x=\"300.146484\" xlink:href=\"#ArialMT-63\"/>\r\n      <use x=\"350.146484\" xlink:href=\"#ArialMT-69\"/>\r\n      <use x=\"372.363281\" xlink:href=\"#ArialMT-65\"/>\r\n      <use x=\"427.978516\" xlink:href=\"#ArialMT-73\"/>\r\n     </g>\r\n    </g>\r\n   </g>\r\n   <g id=\"line2d_12\">\r\n    <path clip-path=\"url(#p76abd85d72)\" d=\"M 82.473466 214.756364 \r\nL 224.50983 74.261698 \r\nL 366.546193 21.984613 \r\nL 508.582557 20.350954 \r\nL 650.61892 23.618272 \r\nL 792.655284 17.083636 \r\n\" style=\"fill:none;stroke:#4c72b0;stroke-linecap:round;stroke-width:1.5;\"/>\r\n   </g>\r\n   <g id=\"patch_3\">\r\n    <path d=\"M 46.964375 224.64 \r\nL 46.964375 7.2 \r\n\" style=\"fill:none;stroke:#ffffff;stroke-linecap:square;stroke-linejoin:miter;stroke-width:1.25;\"/>\r\n   </g>\r\n   <g id=\"patch_4\">\r\n    <path d=\"M 828.164375 224.64 \r\nL 828.164375 7.2 \r\n\" style=\"fill:none;stroke:#ffffff;stroke-linecap:square;stroke-linejoin:miter;stroke-width:1.25;\"/>\r\n   </g>\r\n   <g id=\"patch_5\">\r\n    <path d=\"M 46.964375 224.64 \r\nL 828.164375 224.64 \r\n\" style=\"fill:none;stroke:#ffffff;stroke-linecap:square;stroke-linejoin:miter;stroke-width:1.25;\"/>\r\n   </g>\r\n   <g id=\"patch_6\">\r\n    <path d=\"M 46.964375 7.2 \r\nL 828.164375 7.2 \r\n\" style=\"fill:none;stroke:#ffffff;stroke-linecap:square;stroke-linejoin:miter;stroke-width:1.25;\"/>\r\n   </g>\r\n  </g>\r\n </g>\r\n <defs>\r\n  <clipPath id=\"p76abd85d72\">\r\n   <rect height=\"217.44\" width=\"781.2\" x=\"46.964375\" y=\"7.2\"/>\r\n  </clipPath>\r\n </defs>\r\n</svg>\r\n",
            "image/png": "[encoded data removed]"
          },
          "metadata": {}
        }
      ]
    }
  ]
}